{
 "cells": [
  {
   "cell_type": "code",
   "execution_count": 1,
   "metadata": {},
   "outputs": [
    {
     "ename": "ModuleNotFoundError",
     "evalue": "No module named 'requests'",
     "output_type": "error",
     "traceback": [
      "\u001b[0;31m---------------------------------------------------------------------------\u001b[0m",
      "\u001b[0;31mModuleNotFoundError\u001b[0m                       Traceback (most recent call last)",
      "\u001b[0;32m<ipython-input-1-dd11e9340bf2>\u001b[0m in \u001b[0;36m<module>\u001b[0;34m()\u001b[0m\n\u001b[0;32m----> 1\u001b[0;31m \u001b[0;32mimport\u001b[0m \u001b[0mrequests\u001b[0m\u001b[0;34m\u001b[0m\u001b[0m\n\u001b[0m\u001b[1;32m      2\u001b[0m \u001b[0;32mimport\u001b[0m \u001b[0mcsv\u001b[0m\u001b[0;34m\u001b[0m\u001b[0m\n\u001b[1;32m      3\u001b[0m \u001b[0;32mimport\u001b[0m \u001b[0mre\u001b[0m\u001b[0;34m\u001b[0m\u001b[0m\n\u001b[1;32m      4\u001b[0m \u001b[0;32mfrom\u001b[0m \u001b[0mbs4\u001b[0m \u001b[0;32mimport\u001b[0m \u001b[0mBeautifulSoup\u001b[0m\u001b[0;34m\u001b[0m\u001b[0m\n",
      "\u001b[0;31mModuleNotFoundError\u001b[0m: No module named 'requests'"
     ]
    }
   ],
   "source": [
    "\n",
    "\n",
    "import requests\n",
    "import csv\n",
    "import re\n",
    "from bs4 import BeautifulSoup"
   ]
  },
  {
   "cell_type": "code",
   "execution_count": null,
   "metadata": {},
   "outputs": [],
   "source": [
    "r = requests.get('http://movie.mtime.com/comingsoon/#comingsoon')\n",
    "r.encoding = 'utf8'"
   ]
  },
  {
   "cell_type": "code",
   "execution_count": null,
   "metadata": {},
   "outputs": [],
   "source": [
    "html_str = r.text\n",
    "document = BeautifulSoup(html_str)"
   ]
  },
  {
   "cell_type": "code",
   "execution_count": null,
   "metadata": {},
   "outputs": [],
   "source": [
    "titles = document.find_all('div',attrs = {'class':'moviebox'})"
   ]
  },
  {
   "cell_type": "code",
   "execution_count": null,
   "metadata": {},
   "outputs": [],
   "source": [
    "print(titles)"
   ]
  },
  {
   "cell_type": "code",
   "execution_count": null,
   "metadata": {},
   "outputs": [],
   "source": [
    "listname = []\n",
    "for title in titles:\n",
    "    name = title.find('h3')\n",
    "    listname.append(name.text)\n",
    "\n",
    "print(listname)"
   ]
  },
  {
   "cell_type": "code",
   "execution_count": null,
   "metadata": {},
   "outputs": [],
   "source": [
    "dates = document.find_all('div',attrs = {'class':'moviebox'})\n",
    "listdate = []\n",
    "for date in dates:\n",
    "    times = date.find_all('p',attrs={'class':'dataday'})\n",
    "    for time in times:\n",
    "        time_str = time.text.split(\"上映日期： \")\n",
    "        listdate.append(time_str[1])\n",
    "print(listdate)"
   ]
  },
  {
   "cell_type": "code",
   "execution_count": null,
   "metadata": {},
   "outputs": [],
   "source": [
    "kinds = document.find_all('div',attrs = {'class':'moviebox'})\n",
    "\n",
    "\n",
    "listkind = []\n",
    "for kind in kinds:\n",
    "    types = kind.find_all('a',attrs={\"href\":re.compile(r'.*type.*')}) \n",
    "    type_str = \"\"\n",
    "    for type in types:\n",
    "        print(type)\n",
    "        if \"/\" not in type.text: \n",
    "            listkind.append(type_str + type.text)\n",
    "            type_str = \"\"\n",
    "        else:\n",
    "            type_str += type.text\n",
    "print(listkind)"
   ]
  },
  {
   "cell_type": "code",
   "execution_count": null,
   "metadata": {},
   "outputs": [],
   "source": [
    "nations = document.find_all('div',attrs = {'class':'moviebox'})\n",
    "\n",
    "listnation = []\n",
    "for nation in nations:\n",
    "    areas = nation.find_all('a',attrs={\"href\":re.compile(r'.*nation.*')})\n",
    "    area_str = \"\"\n",
    "    for area in areas:\n",
    "        if \"|\" not in area.text: \n",
    "            listnation.append(area_str + area.text)\n",
    "            area_str = \"\"\n",
    "        else:\n",
    "            area_str += area.text\n",
    "print(listnation)"
   ]
  },
  {
   "cell_type": "code",
   "execution_count": null,
   "metadata": {},
   "outputs": [],
   "source": [
    "peoples = document.find_all('div',attrs = {'class':'moviebox'})\n",
    "\n",
    "listpeople = []\n",
    "for people in peoples:\n",
    "    staffs = people.find_all('a',attrs={\"href\":re.compile(r'.*people.*')}) \n",
    "    staff_str = \"\"\n",
    "    for staff in staffs:\n",
    "        staff_str = staff_str + \" \" + staff.text \n",
    "    listpeople.append(staff_str)\n",
    "print(listpeople)"
   ]
  },
  {
   "cell_type": "code",
   "execution_count": null,
   "metadata": {},
   "outputs": [],
   "source": [
    "numbers = document.find_all('div', attrs = {'class':\"fr\"})\n",
    "\n",
    "listnumber = []\n",
    "for number in numbers:\n",
    "    people = number.find('i')\n",
    "    print(people)\n",
    "    if people.text!= \"\":\n",
    "        listnumber.append(people.text)"
   ]
  },
  {
   "cell_type": "code",
   "execution_count": null,
   "metadata": {},
   "outputs": [],
   "source": [
    "with open('mTimeData.csv','w') as f:\n",
    "    writer = csv.writer(f)\n",
    "    header = ['movie_name','relase_date','types', 'areas', 'staff','votes']\n",
    "    writer.writerow(header)\n",
    "    writer.writerows(zip(listname,listdate,listkind,listnation,listpeople,listnumber))"
   ]
  },
  {
   "cell_type": "code",
   "execution_count": null,
   "metadata": {},
   "outputs": [],
   "source": [
    "import pandas as pd\n",
    "import matplotlib\n",
    "from matplotlib import pyplot as plt\n",
    "import seaborn as sns\n",
    "from matplotlib.font_manager import FontProperties \n",
    "\n",
    "font = FontProperties(fname='/System/Library/Fonts/PingFang.ttc') \n",
    "\n",
    "def show_chinese_lable(chart):\n",
    "    for label in chart.get_xticklabels(): \n",
    "        label.set_fontproperties(font) \n",
    "    plt.show()\n"
   ]
  },
  {
   "cell_type": "code",
   "execution_count": null,
   "metadata": {},
   "outputs": [],
   "source": [
    "df = pd.read_csv('mTimeData.csv')\n",
    "df.head()\n",
    "bar_chart = df['areas'].value_counts().plot(kind='bar')\n",
    "\n",
    "show_chinese_lable(bar_chart)"
   ]
  },
  {
   "cell_type": "code",
   "execution_count": null,
   "metadata": {},
   "outputs": [],
   "source": [
    "top_area_chart = df['areas'].value_counts()[:15].plot(kind='bar')\n",
    "show_chinese_lable(top_area_chart)"
   ]
  },
  {
   "cell_type": "code",
   "execution_count": null,
   "metadata": {},
   "outputs": [],
   "source": [
    "mean_votes = df['votes'].mean()\n",
    "mean_votes"
   ]
  },
  {
   "cell_type": "code",
   "execution_count": null,
   "metadata": {},
   "outputs": [],
   "source": [
    "top_votes = df.sort_values(by=['votes'], ascending=False).head(20)\n",
    "top_votes"
   ]
  },
  {
   "cell_type": "code",
   "execution_count": null,
   "metadata": {},
   "outputs": [],
   "source": [
    "df['areas'].value_counts()"
   ]
  },
  {
   "cell_type": "code",
   "execution_count": null,
   "metadata": {},
   "outputs": [],
   "source": []
  }
 ],
 "metadata": {
  "kernelspec": {
   "display_name": "Python 3",
   "language": "python",
   "name": "python3"
  },
  "language_info": {
   "codemirror_mode": {
    "name": "ipython",
    "version": 3
   },
   "file_extension": ".py",
   "mimetype": "text/x-python",
   "name": "python",
   "nbconvert_exporter": "python",
   "pygments_lexer": "ipython3",
   "version": "3.6.4"
  }
 },
 "nbformat": 4,
 "nbformat_minor": 2
}
